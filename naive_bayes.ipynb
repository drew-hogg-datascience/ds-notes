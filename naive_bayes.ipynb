{
 "cells": [
  {
   "cell_type": "markdown",
   "metadata": {},
   "source": [
    "# Naive Bayes"
   ]
  },
  {
   "cell_type": "markdown",
   "metadata": {},
   "source": [
    "A naive Bayes algorithm with a sample application to spam detection."
   ]
  },
  {
   "cell_type": "markdown",
   "metadata": {},
   "source": [
    "Naive Bayes classifiers are a class of simple probabilistic classifiers built off of Bayes theorem:\n",
    "\n",
    " $$ P(A|B) = \\frac{P(B|A)P(A)}{P(B)}.$$\n",
    " \n",
    "The idea being that the probability of class membership is given by the probability of the set of \\emph{independent} features it possesses.  Despite its simplicity, Naive Bayes models are typically very accurate and they are highly scalable and fit linear in time."
   ]
  },
  {
   "cell_type": "code",
   "execution_count": 12,
   "metadata": {},
   "outputs": [],
   "source": [
    "import re, glob, random, math\n",
    "import import_ipynb\n",
    "import ml_tools\n",
    "from collections import defaultdict, Counter"
   ]
  },
  {
   "cell_type": "code",
   "execution_count": 2,
   "metadata": {},
   "outputs": [],
   "source": [
    "def tokenize(text):\n",
    "    text = text.lower()                        # convert to lowercase\n",
    "    all_words = re.findall('[a-z0-9]+', text)  # extract words\n",
    "    return set(all_words)                      # remove duplicates"
   ]
  },
  {
   "cell_type": "code",
   "execution_count": 3,
   "metadata": {},
   "outputs": [],
   "source": [
    "def count_words(training_set):\n",
    "    '''traning_set consists of pairs (text, is_spam)'''\n",
    "    \n",
    "    #create dict of word, classification, count\n",
    "    counts = defaultdict(lambda: [0,0])        # our own initialization function\n",
    "    for text, is_spam in training_set:\n",
    "        for word in tokenize(text):\n",
    "            counts[word][0 if is_spam else 1] += 1\n",
    "    return counts"
   ]
  },
  {
   "cell_type": "code",
   "execution_count": 4,
   "metadata": {},
   "outputs": [],
   "source": [
    "def word_probabilities(counts, total_spams, total_non_spams, k=0.5):\n",
    "    '''turn word_counts into a list of triplets w, p(w|spam) and p(w|~spam)'''\n",
    "    return [(w,\n",
    "            (spam+k)/(total_spams+2.*k),\n",
    "            (non_spam+k)/(total_non_spams+2.*k))\n",
    "           for w, (spam, non_spam) in counts.items()]\n"
   ]
  },
  {
   "cell_type": "code",
   "execution_count": 5,
   "metadata": {},
   "outputs": [],
   "source": [
    "def spam_probability(word_probs, message):\n",
    "    message_words = tokenize(message)\n",
    "    log_prob_if_spam = log_prob_if_not_spam = 0.0\n",
    "\n",
    "    for word, prob_if_spam, prob_if_not_spam in word_probs:\n",
    "\n",
    "        # for each word in the message,\n",
    "        # add the log probability of seeing it\n",
    "        if word in message_words:\n",
    "            log_prob_if_spam += math.log(prob_if_spam)\n",
    "            log_prob_if_not_spam += math.log(prob_if_not_spam)\n",
    "\n",
    "        # for each word that's not in the message\n",
    "        # add the log probability of _not_ seeing it\n",
    "        else:\n",
    "            log_prob_if_spam += math.log(1.0 - prob_if_spam)\n",
    "            log_prob_if_not_spam += math.log(1.0 - prob_if_not_spam)\n",
    "\n",
    "    prob_if_spam = math.exp(log_prob_if_spam)\n",
    "    prob_if_not_spam = math.exp(log_prob_if_not_spam)\n",
    "    return prob_if_spam / (prob_if_spam + prob_if_not_spam)"
   ]
  },
  {
   "cell_type": "code",
   "execution_count": 6,
   "metadata": {},
   "outputs": [],
   "source": [
    "class NaiveBayesClassifier:\n",
    "    \n",
    "    def __init__(self, k=0.5):\n",
    "        self.k = k\n",
    "        self.word_probs = []\n",
    "        \n",
    "    def train(self, training_set):\n",
    "        \n",
    "        # count spam and non-spam messages\n",
    "        num_spams = len([is_spam\n",
    "                        for message, is_spam in training_set\n",
    "                        if is_spam])\n",
    "        num_non_spams = len(training_set) - num_spams\n",
    "        \n",
    "        # run training data through pipeline\n",
    "        word_counts = count_words(training_set)\n",
    "        self.word_probs = word_probabilities(word_counts, num_spams, num_non_spams, self.k)\n",
    "        \n",
    "    def classify(self, message):\n",
    "        return spam_probability(self.word_probs, message)"
   ]
  },
  {
   "cell_type": "code",
   "execution_count": 13,
   "metadata": {},
   "outputs": [
    {
     "name": "stdout",
     "output_type": "stream",
     "text": [
      "Counter({(False, False): 710, (True, True): 85, (True, False): 49, (False, True): 32})\n",
      "spammiest_hams [('Species at risk of extinction growing', False, 0.9041860801409064), ('Cell phones coming soon', False, 0.9695274846052802), ('Save up to 70% on international calls!', False, 0.9713530671270301), ('Adam dont job for no one, see.', False, 0.9779303466671266), ('2000+ year old Greek computer reinterpreted', False, 0.9787959553367905)]\n",
      "hammiest_spams [('I was so scared... my very first DP', True, 3.3740549396526264e-05), ('Re: Hi', True, 0.0011506162534143066), ('*****SPAM*****', True, 0.002331869694849285), ('http://www.efi.ie/', True, 0.008502573360982467), ('Outstanding Opportunities for \"Premier Producers\"', True, 0.009155648659073444)]\n",
      "spammiest_words [('year', 0.02837837837837838, 0.0002294630564479119), ('zzzz', 0.02837837837837838, 0.0002294630564479119), ('money', 0.033783783783783786, 0.0002294630564479119), ('systemworks', 0.033783783783783786, 0.0002294630564479119), ('adv', 0.0445945945945946, 0.0002294630564479119)]\n",
      "hammiest_words [('spambayes', 0.0013513513513513514, 0.04612207434603029), ('users', 0.0013513513513513514, 0.039238182652592934), ('was', 0.0013513513513513514, 0.03786140431390546), ('razor', 0.0013513513513513514, 0.034189995410738874), ('zzzzteana', 0.0013513513513513514, 0.030059660394676457)]\n"
     ]
    }
   ],
   "source": [
    "def get_subject_data(path):\n",
    "\n",
    "    data = []\n",
    "\n",
    "    # regex for stripping out the leading \"Subject:\" and any spaces after it\n",
    "    subject_regex = re.compile(r\"^Subject:\\s+\")\n",
    "\n",
    "    # glob.glob returns every filename that matches the wildcarded path\n",
    "    for fn in glob.glob(path):\n",
    "        is_spam = \"ham\" not in fn\n",
    "\n",
    "        with open(fn,'r',encoding='ISO-8859-1') as file:\n",
    "            for line in file:\n",
    "                if line.startswith(\"Subject:\"):\n",
    "                    subject = subject_regex.sub(\"\", line).strip()\n",
    "                    data.append((subject, is_spam))\n",
    "\n",
    "    return data\n",
    "\n",
    "def p_spam_given_word(word_prob):\n",
    "    word, prob_if_spam, prob_if_not_spam = word_prob\n",
    "    return prob_if_spam / (prob_if_spam + prob_if_not_spam)\n",
    "\n",
    "def train_and_test_model(path):\n",
    "\n",
    "    data = get_subject_data(path)\n",
    "    random.seed(0)      # just so you get the same answers as me\n",
    "    train_data, test_data = ml_tools.split_data(data, 0.75)\n",
    "\n",
    "    classifier = NaiveBayesClassifier()\n",
    "    classifier.train(train_data)\n",
    "\n",
    "    classified = [(subject, is_spam, classifier.classify(subject))\n",
    "              for subject, is_spam in test_data]\n",
    "\n",
    "    counts = Counter((is_spam, spam_probability > 0.5) # (actual, predicted)\n",
    "                     for _, is_spam, spam_probability in classified)\n",
    "\n",
    "    print(counts)\n",
    "\n",
    "    classified.sort(key=lambda row: row[2])\n",
    "    spammiest_hams = list(filter(lambda row: not row[1], classified))[-5:]\n",
    "    hammiest_spams = list(filter(lambda row: row[1], classified))[:5]\n",
    "\n",
    "    print(\"spammiest_hams\", spammiest_hams)\n",
    "    print(\"hammiest_spams\", hammiest_spams)\n",
    "\n",
    "    words = sorted(classifier.word_probs, key=p_spam_given_word)\n",
    "\n",
    "    spammiest_words = words[-5:]\n",
    "    hammiest_words = words[:5]\n",
    "\n",
    "    print(\"spammiest_words\", spammiest_words)\n",
    "    print(\"hammiest_words\", hammiest_words)\n",
    "\n",
    "train_and_test_model(r\"./email_data/*/*\")"
   ]
  },
  {
   "cell_type": "code",
   "execution_count": null,
   "metadata": {},
   "outputs": [],
   "source": []
  }
 ],
 "metadata": {
  "kernelspec": {
   "display_name": "Python 3",
   "language": "python",
   "name": "python3"
  },
  "language_info": {
   "codemirror_mode": {
    "name": "ipython",
    "version": 3
   },
   "file_extension": ".py",
   "mimetype": "text/x-python",
   "name": "python",
   "nbconvert_exporter": "python",
   "pygments_lexer": "ipython3",
   "version": "3.6.6"
  }
 },
 "nbformat": 4,
 "nbformat_minor": 2
}
