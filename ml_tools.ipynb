{
 "cells": [
  {
   "cell_type": "markdown",
   "metadata": {},
   "source": [
    "# Machine Learning Tools"
   ]
  },
  {
   "cell_type": "code",
   "execution_count": 3,
   "metadata": {},
   "outputs": [],
   "source": [
    "%%capture\n",
    "import random\n",
    "import import_ipynb\n",
    "from gradient_descent_and_data_tools import *"
   ]
  },
  {
   "cell_type": "markdown",
   "metadata": {},
   "source": [
    "These are a few routines that do common ML tasks like splitting data for training and testing, as well as quality metric for use when assessing how good models are (like accuracy, precision, recall, and F1)."
   ]
  },
  {
   "cell_type": "code",
   "execution_count": 3,
   "metadata": {},
   "outputs": [],
   "source": [
    "def split_data(data, perc):\n",
    "    '''split data into fractions [perc, 1-perc]'''\n",
    "    results = [],[]\n",
    "    for row in data:\n",
    "        # random.random() returns float between [0.0, 1.0)\n",
    "        results[0 if random.random() < perc else 1].append(row)\n",
    "    return results"
   ]
  },
  {
   "cell_type": "code",
   "execution_count": 4,
   "metadata": {},
   "outputs": [],
   "source": [
    "def train_test_split(x, y, test_pct):\n",
    "    data = zip(x, y)                               # pair values\n",
    "    train, test = split_data(data, 1. - test_pct)  # split data into sets of pairs\n",
    "    x_train, y_train = zip(*train)\n",
    "    x_test, y_test = zip(*test)\n",
    "    \n",
    "    return x_train, x_test, y_train, y_test"
   ]
  },
  {
   "cell_type": "code",
   "execution_count": 5,
   "metadata": {},
   "outputs": [],
   "source": [
    "def accuracy(tp, fp, fn, tn):\n",
    "    correct = tp+tn\n",
    "    total = tp+fp+fn+tn\n",
    "    return correct/total\n",
    "\n",
    "def precision(tp, fp, fn, tn):\n",
    "    return tp/(tp+fp)\n",
    "\n",
    "def recall(tp, fp, fn, tn):\n",
    "    return tp/(tp+fn)\n",
    "\n",
    "def f1_score(tp, fp, fn, tn):\n",
    "    p = precision(tp, fp, fn, tn)\n",
    "    r = recall(tp, fp , fn , tn)\n",
    "    return 2.*p*r/(p+r)"
   ]
  },
  {
   "cell_type": "code",
   "execution_count": 1,
   "metadata": {},
   "outputs": [],
   "source": [
    "def total_sum_of_squares(y):\n",
    "    '''total squared variation of y_i's from their mean'''\n",
    "    return sum(v**2 for v in de_mean(y))\n",
    "\n",
    "def r_squared(alpha, beta, x, y):\n",
    "    '''coefficient of determination or the fraction of variation in y captured by model'''\n",
    "    r2 = 1.0-(sum_of_squared_errors(alpha, beta, x, y)/total_sum_of_squares(y))"
   ]
  },
  {
   "cell_type": "code",
   "execution_count": null,
   "metadata": {},
   "outputs": [],
   "source": []
  }
 ],
 "metadata": {
  "kernelspec": {
   "display_name": "Python 3",
   "language": "python",
   "name": "python3"
  },
  "language_info": {
   "codemirror_mode": {
    "name": "ipython",
    "version": 3
   },
   "file_extension": ".py",
   "mimetype": "text/x-python",
   "name": "python",
   "nbconvert_exporter": "python",
   "pygments_lexer": "ipython3",
   "version": "3.6.6"
  }
 },
 "nbformat": 4,
 "nbformat_minor": 2
}
