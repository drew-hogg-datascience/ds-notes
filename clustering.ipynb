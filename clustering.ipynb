{
 "cells": [
  {
   "cell_type": "markdown",
   "metadata": {},
   "source": [
    "# Clustering"
   ]
  },
  {
   "cell_type": "code",
   "execution_count": 1,
   "metadata": {},
   "outputs": [],
   "source": [
    "%%capture\n",
    "import random, math\n",
    "import import_ipynb\n",
    "from ml_tools import *\n",
    "from gradient_descent_and_data_tools import *"
   ]
  },
  {
   "cell_type": "markdown",
   "metadata": {},
   "source": [
    "### k-Means"
   ]
  },
  {
   "cell_type": "markdown",
   "metadata": {},
   "source": [
    "k-means clustering is a tool that identifies clusters in your data.  By iterating through with a set number of clusters to fit, k, the clusters are identified by their means.  Later points will be assigned to points based their location within the data cloud.  Clusters are found by intializing with random k points in the d-dimensional space and then iteratively assigning each point to the closest mean, reassign points to the new means and then recomputing the means.  When points are no longer reassigned after recomputation of the means based off the new cluster assignments, the clusters are considered discovered.  The number of clusters in the data and the corresponding k hyperparameter are found by stepping through k-space and finding the \"knee\" where the total sum of squares slows in its improvement.  "
   ]
  },
  {
   "cell_type": "code",
   "execution_count": 2,
   "metadata": {},
   "outputs": [],
   "source": [
    "class KMeans:\n",
    "    '''performs k-means clustering'''\n",
    "    \n",
    "    def __init__(self, k):\n",
    "        self.k = k         # number of clusters\n",
    "        self.means = None  # means of clusters\n",
    "        \n",
    "    def classify(self, input):\n",
    "        '''return the index of the cluster closest to the input'''\n",
    "        return min(range(self.k),\n",
    "                  key = lambda i: squared_distance(input, self.means[i]))\n",
    "    \n",
    "    def train(self, inputs):\n",
    "        # choose k random points as the initial means\n",
    "        \n",
    "        self.means = random.sample(inputs, self.k)\n",
    "        assignments = None\n",
    "        \n",
    "        while True:\n",
    "            # find new assignments\n",
    "            new_assignments = list(map(self.classify, inputs))\n",
    "            \n",
    "            if assignments == new_assignments:\n",
    "                return\n",
    "            \n",
    "            # otherwise keep the new assignments\n",
    "            assignments = new_assignments\n",
    "            \n",
    "            # and compute new means based on new assignemtns\n",
    "            for i in range(self.k):\n",
    "                # find all points assigned to cluster i\n",
    "                i_points = [p for p, a in zip(inputs, assignments) if a ==i]\n",
    "                \n",
    "                # check list is not empty\n",
    "                if i_points:       \n",
    "                    self.means[i] = vector_mean(i_points)"
   ]
  },
  {
   "cell_type": "code",
   "execution_count": 3,
   "metadata": {},
   "outputs": [],
   "source": [
    "inputs = [[-14,-5],[13,13],[20,23],[-19,-11],[-9,-16],[21,27],[-49,15],[26,13],[-46,5],[-34,-1],[11,15],[-49,0],[-22,-16],[19,28],[-12,-8],[-13,-19],[-41,8],[-11,-6],[-25,-9],[-18,-3]]\n"
   ]
  },
  {
   "cell_type": "code",
   "execution_count": 4,
   "metadata": {},
   "outputs": [
    {
     "name": "stdout",
     "output_type": "stream",
     "text": [
      "3-means:\n",
      "[[-25.857142857142854, -4.714285714285714], [20.0, 26.0], [16.666666666666664, 13.666666666666666]]\n",
      "\n",
      "2-means:\n",
      "[[-25.857142857142854, -4.714285714285714], [18.333333333333332, 19.833333333333332]]\n",
      "\n"
     ]
    }
   ],
   "source": [
    "random.seed(0)\n",
    "clusterer = KMeans(3)\n",
    "clusterer.train(inputs)\n",
    "print(\"3-means:\")\n",
    "print(clusterer.means)\n",
    "print()\n",
    "\n",
    "random.seed(0)\n",
    "clusterer = KMeans(2)\n",
    "clusterer.train(inputs)\n",
    "print(\"2-means:\")\n",
    "print(clusterer.means)\n",
    "print()"
   ]
  },
  {
   "cell_type": "code",
   "execution_count": 5,
   "metadata": {},
   "outputs": [],
   "source": [
    "def squared_clustering_errors(inputs, k):\n",
    "    \"\"\"finds the total squared error from k-means clustering the inputs\"\"\"\n",
    "    clusterer = KMeans(k)\n",
    "    clusterer.train(inputs)\n",
    "    means = clusterer.means\n",
    "    assignments = list(map(clusterer.classify, inputs))\n",
    "\n",
    "    return sum(squared_distance(input,means[cluster])\n",
    "               for input, cluster in zip(inputs, assignments))\n"
   ]
  },
  {
   "cell_type": "code",
   "execution_count": 6,
   "metadata": {},
   "outputs": [
    {
     "data": {
      "image/png": "[encoded data removed]",
      "text/plain": [
       "<Figure size 432x288 with 1 Axes>"
      ]
     },
     "metadata": {},
     "output_type": "display_data"
    }
   ],
   "source": [
    "ks = range(1, len(inputs) + 1)\n",
    "errors = [squared_clustering_errors(inputs, k) for k in ks]\n",
    "\n",
    "plt.plot(ks, errors)\n",
    "plt.xticks(ks)\n",
    "plt.xlabel(\"k\")\n",
    "plt.ylabel(\"total squared error\")\n",
    "plt.show()"
   ]
  },
  {
   "cell_type": "markdown",
   "metadata": {},
   "source": [
    "### Bottom-up Heirarchical Clustering"
   ]
  },
  {
   "cell_type": "markdown",
   "metadata": {},
   "source": [
    "Rather than identify clusters by finding their \"locations\" like in k-means, bottom-up heirarchical clustering seeks to identify clusters of points by growing the clusters based off the proximity of points.  These agglomerative clustering approach can also be visualized as a dendrogram."
   ]
  },
  {
   "cell_type": "markdown",
   "metadata": {},
   "source": [
    "values live in leaf clusters in the form of 1-tuples:\n",
    "\n",
    "leaf1 = ([10, 20],)   # need trailing comma\n",
    "\n",
    "leaf2 = ([30, 15],)   # so Python doesn't treat parentheses as parentheses\n",
    "\n",
    "and grow as merged clusters represended as 2-tuples:\n",
    "\n",
    "merged = (1, [leaf1, leaf2])"
   ]
  },
  {
   "cell_type": "code",
   "execution_count": 7,
   "metadata": {},
   "outputs": [],
   "source": [
    "def is_leaf(cluster):\n",
    "    '''a cluster is a leaf if it has length 1'''\n",
    "    return len(cluster) == 1\n",
    "\n",
    "def get_children(cluster):\n",
    "    '''returns two children if the cluster is a merged cluster, raises exception for leaf'''\n",
    "    if is_leaf(cluster):\n",
    "        raise TypeError('a leaf cluster has no children')\n",
    "    else:\n",
    "        return cluster[1]\n",
    "    \n",
    "def get_values(cluster):\n",
    "    '''returns the calue of this cluster if it is a leaf cluster\n",
    "    or all values in the leaf clusters below if it is not'''\n",
    "    if is_leaf(cluster):\n",
    "        return cluster\n",
    "    else:\n",
    "        return [value\n",
    "               for child in get_children(cluster)\n",
    "               for value in get_values(child)]"
   ]
  },
  {
   "cell_type": "markdown",
   "metadata": {},
   "source": [
    "To merge clusters use the minimum distance between elements of the two clusters to merge the closest to touching.  To get tight spherical clusters, use maximum distance."
   ]
  },
  {
   "cell_type": "code",
   "execution_count": 8,
   "metadata": {},
   "outputs": [],
   "source": [
    "def cluster_distance(cluster1, cluster2, distance_agg=min):\n",
    "    '''compute pairwise distances between cluster 1 and 2'''\n",
    "    return distance_agg([distance(input1, input2)\n",
    "                        for input1 in get_values(cluster1)\n",
    "                        for input2 in get_values(cluster2)])"
   ]
  },
  {
   "cell_type": "code",
   "execution_count": 9,
   "metadata": {},
   "outputs": [],
   "source": [
    "def get_merge_order(cluster):\n",
    "    if is_leaf(cluster):\n",
    "        return float('inf')\n",
    "    else:\n",
    "        return cluster[0]   # merge_order is first element of 2-tuple"
   ]
  },
  {
   "cell_type": "code",
   "execution_count": 10,
   "metadata": {},
   "outputs": [],
   "source": [
    "def bottom_up_cluster(inputs, distance_agg=min):\n",
    "    \n",
    "    # start with every input a leaf cluster\n",
    "    clusters = [(input,) for input in inputs]\n",
    "    \n",
    "    while len(clusters) > 1:\n",
    "        # find the two closest clsuters\n",
    "        c1, c2 = min([(cluster1, cluster2)\n",
    "                     for i, cluster1 in enumerate(clusters)\n",
    "                     for cluster2 in clusters[:i]],\n",
    "                    key=lambda p: cluster_distance(p[0], p[1], distance_agg))\n",
    "        \n",
    "        # remove them from the list of clusters\n",
    "        clusters = [c for c in clusters if c != c1 and c != c2]\n",
    "        \n",
    "        # merge them, using merge_order as number of clusters left\n",
    "        merged_cluster = (len(clusters), [c1, c2])\n",
    "        \n",
    "        # and add their merge\n",
    "        clusters.append(merged_cluster)\n",
    "        \n",
    "    # return single, final cluster\n",
    "    return clusters[0]"
   ]
  },
  {
   "cell_type": "code",
   "execution_count": 11,
   "metadata": {},
   "outputs": [],
   "source": [
    "base_cluster = bottom_up_cluster(inputs)"
   ]
  },
  {
   "cell_type": "code",
   "execution_count": 12,
   "metadata": {},
   "outputs": [
    {
     "name": "stdout",
     "output_type": "stream",
     "text": [
      "(0, [(1, [(3, [(14, [(18, [([19, 28],), ([21, 27],)]), ([20, 23],)]), ([26, 13],)]), (16, [([11, 15],), ([13, 13],)])]), (2, [(4, [(5, [(9, [(11, [([-49, 0],), ([-46, 5],)]), ([-41, 8],)]), ([-49, 15],)]), ([-34, -1],)]), (6, [(7, [(8, [(10, [([-22, -16],), ([-19, -11],)]), ([-25, -9],)]), (13, [(15, [(17, [([-11, -6],), ([-12, -8],)]), ([-14, -5],)]), ([-18, -3],)])]), (12, [([-13, -19],), ([-9, -16],)])])])])\n"
     ]
    }
   ],
   "source": [
    "print(base_cluster)"
   ]
  },
  {
   "cell_type": "code",
   "execution_count": 13,
   "metadata": {},
   "outputs": [],
   "source": [
    "def generate_clusters(base_cluster, num_clusters):\n",
    "    # start with a list with just the base cluster\n",
    "    clusters = [base_cluster]\n",
    "\n",
    "    # as long as we don't have enough clusters yet...\n",
    "    while len(clusters) < num_clusters:\n",
    "        # choose the last-merged of our clusters\n",
    "        next_cluster = min(clusters, key=get_merge_order)\n",
    "        # remove it from the list\n",
    "        clusters = [c for c in clusters if c != next_cluster]\n",
    "        # and add its children to the list (i.e., unmerge it)\n",
    "        clusters.extend(get_children(next_cluster))\n",
    "\n",
    "    # once we have enough clusters...\n",
    "    return clusters"
   ]
  },
  {
   "cell_type": "code",
   "execution_count": 14,
   "metadata": {},
   "outputs": [
    {
     "name": "stdout",
     "output_type": "stream",
     "text": [
      "three clusters, min:\n",
      "[[-49, 0], [-46, 5], [-41, 8], [-49, 15], [-34, -1], [-22, -16], [-19, -11], [-25, -9], [-11, -6], [-12, -8], [-14, -5], [-18, -3], [-13, -19], [-9, -16]]\n",
      "[[19, 28], [21, 27], [20, 23], [26, 13]]\n",
      "[[11, 15], [13, 13]]\n",
      "\n",
      "three clusters, max:\n",
      "[[-49, 0], [-46, 5], [-41, 8], [-49, 15], [-34, -1], [-22, -16], [-19, -11], [-25, -9], [-11, -6], [-12, -8], [-14, -5], [-18, -3], [-13, -19], [-9, -16]]\n",
      "[[19, 28], [21, 27], [20, 23], [26, 13]]\n",
      "[[11, 15], [13, 13]]\n"
     ]
    }
   ],
   "source": [
    "print(\"three clusters, min:\")\n",
    "for cluster in generate_clusters(base_cluster, 3):\n",
    "    print(get_values(cluster))\n",
    "\n",
    "print()\n",
    "print(\"three clusters, max:\")\n",
    "base_cluster = bottom_up_cluster(inputs, min)\n",
    "for cluster in generate_clusters(base_cluster, 3):\n",
    "    print(get_values(cluster))"
   ]
  },
  {
   "cell_type": "code",
   "execution_count": 15,
   "metadata": {},
   "outputs": [],
   "source": [
    "three_clusters = [get_values(cluster) for cluster in generate_clusters(base_cluster, 3)]"
   ]
  },
  {
   "cell_type": "code",
   "execution_count": 16,
   "metadata": {
    "scrolled": true
   },
   "outputs": [
    {
     "data": {
      "image/png": "[encoded data removed]",
      "text/plain": [
       "<Figure size 432x288 with 1 Axes>"
      ]
     },
     "metadata": {},
     "output_type": "display_data"
    }
   ],
   "source": [
    "for i, cluster, marker, color in zip([1,2,3],\n",
    "                                    three_clusters,\n",
    "                                    ['D', 'o', '*'],\n",
    "                                    ['r', 'g', 'b']):\n",
    "    xs, ys = zip(*cluster)\n",
    "    plt.scatter(xs, ys, color=color, marker=marker)\n",
    "    x, y = vector_mean(cluster)\n",
    "    plt.plot(x, y, marker='$'+str(i)+'$', color='k')\n",
    "plt.title('Cluster Plot - min')\n",
    "plt.xlabel('x-dist')\n",
    "plt.ylabel('y-dist')\n",
    "plt.show()"
   ]
  },
  {
   "cell_type": "code",
   "execution_count": 17,
   "metadata": {},
   "outputs": [
    {
     "name": "stdout",
     "output_type": "stream",
     "text": [
      "three clusters, max:\n",
      "[[-49, 0], [-46, 5], [-41, 8], [-49, 15], [-34, -1], [-22, -16], [-19, -11], [-25, -9], [-11, -6], [-12, -8], [-14, -5], [-18, -3], [-13, -19], [-9, -16]]\n",
      "[[19, 28], [21, 27], [20, 23], [26, 13]]\n",
      "[[11, 15], [13, 13]]\n",
      "\n",
      "three clusters, max:\n",
      "[[11, 15], [13, 13], [26, 13], [19, 28], [21, 27], [20, 23]]\n",
      "[[-41, 8], [-49, 15], [-49, 0], [-46, 5], [-34, -1]]\n",
      "[[-11, -6], [-12, -8], [-14, -5], [-18, -3], [-22, -16], [-19, -11], [-25, -9], [-13, -19], [-9, -16]]\n"
     ]
    }
   ],
   "source": [
    "print(\"three clusters, max:\")\n",
    "for cluster in generate_clusters(base_cluster, 3):\n",
    "    print(get_values(cluster))\n",
    "\n",
    "print()\n",
    "print(\"three clusters, max:\")\n",
    "base_cluster = bottom_up_cluster(inputs, max)\n",
    "for cluster in generate_clusters(base_cluster, 3):\n",
    "    print(get_values(cluster))"
   ]
  },
  {
   "cell_type": "code",
   "execution_count": 18,
   "metadata": {},
   "outputs": [],
   "source": [
    "three_clusters = [get_values(cluster) for cluster in generate_clusters(base_cluster, 3)]"
   ]
  },
  {
   "cell_type": "code",
   "execution_count": 19,
   "metadata": {},
   "outputs": [
    {
     "data": {
      "image/png": "[encoded data removed]",
      "text/plain": [
       "<Figure size 432x288 with 1 Axes>"
      ]
     },
     "metadata": {},
     "output_type": "display_data"
    }
   ],
   "source": [
    "for i, cluster, marker, color in zip([1,2,3],\n",
    "                                    three_clusters,\n",
    "                                    ['D', 'o', '*'],\n",
    "                                    ['r', 'g', 'b']):\n",
    "    xs, ys = zip(*cluster)\n",
    "    plt.scatter(xs, ys, color=color, marker=marker)\n",
    "    x, y = vector_mean(cluster)\n",
    "    plt.plot(x, y, marker='$'+str(i)+'$', color='k')\n",
    "plt.title('Cluster Plot - max')\n",
    "plt.xlabel('x-dist')\n",
    "plt.ylabel('y-dist')\n",
    "plt.show()"
   ]
  },
  {
   "cell_type": "code",
   "execution_count": null,
   "metadata": {},
   "outputs": [],
   "source": []
  }
 ],
 "metadata": {
  "kernelspec": {
   "display_name": "Python 3",
   "language": "python",
   "name": "python3"
  },
  "language_info": {
   "codemirror_mode": {
    "name": "ipython",
    "version": 3
   },
   "file_extension": ".py",
   "mimetype": "text/x-python",
   "name": "python",
   "nbconvert_exporter": "python",
   "pygments_lexer": "ipython3",
   "version": "3.6.6"
  }
 },
 "nbformat": 4,
 "nbformat_minor": 2
}
