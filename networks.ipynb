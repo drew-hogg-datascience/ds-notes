{
 "cells": [
  {
   "cell_type": "markdown",
   "metadata": {},
   "source": [
    "# Navigating Networks"
   ]
  },
  {
   "cell_type": "markdown",
   "metadata": {},
   "source": [
    "Many problems can be represented as networks.  The obvious examples are social networks, but maps and roads for directions are examples of these problems, and even fraud detection.  To understand networks, we represent the data with a graph.  Exploring these structures efficiently can be challenging, but several techniques have been developed to enable their use."
   ]
  },
  {
   "cell_type": "markdown",
   "metadata": {},
   "source": [
    "## Breadth-First Search"
   ]
  },
  {
   "cell_type": "markdown",
   "metadata": {},
   "source": [
    "Methodology:\n",
    "\n",
    "1. Represent graph path as a list - the list length equals the length of the path\n",
    "2. Keep dictionary where keys are nodes and values are lists of paths\n",
    "3. Maintain queue of unexplored nodes in pairs of as (new_node, node) to remember how to get to each one\n",
    "4. First identification of new nodes (first time the node is taken out of the queue) means it is the shortest path has been found\n",
    "5. Graph exploration is finished when no nodes are left in the queue, or at least the parts reachable from our starting node."
   ]
  },
  {
   "cell_type": "markdown",
   "metadata": {},
   "source": [
    "We will apply this to the example of users in hypothetical social network"
   ]
  },
  {
   "cell_type": "code",
   "execution_count": 1,
   "metadata": {},
   "outputs": [],
   "source": [
    "users = [\n",
    "    {'id': 0, 'name':'Hero'},\n",
    "    {'id': 1, 'name':'Dunn'},\n",
    "    {'id': 2, 'name':'Sue'},\n",
    "    {'id': 3, 'name':'Chi'},\n",
    "    {'id': 4, 'name':'Thor'},\n",
    "    {'id': 5, 'name':'Clive'},\n",
    "    {'id': 6, 'name':'Hicks'},\n",
    "    {'id': 7, 'name':'Devin'},\n",
    "    {'id': 8, 'name':'Kate'},\n",
    "    {'id': 9, 'name':'Klein'}\n",
    "]\n",
    "\n",
    "friendships = [(0,1), (0,2), (1,2), (1,3), (2,3), (3,4),\n",
    "              (4,5), (5,6), (5,7), (6,8), (7,8), (8,9)]\n",
    "\n",
    "# give each user a friends list\n",
    "for user in users:\n",
    "    user[\"friends\"] = []\n",
    "\n",
    "# and populate it\n",
    "for i, j in friendships:\n",
    "    # this works because users[i] is the user whose id is i\n",
    "    users[i][\"friends\"].append(users[j]) # add i as a friend of j\n",
    "    users[j][\"friends\"].append(users[i]) # add j as a friend of i"
   ]
  },
  {
   "cell_type": "code",
   "execution_count": 12,
   "metadata": {},
   "outputs": [
    {
     "name": "stdout",
     "output_type": "stream",
     "text": [
      "importing Jupyter notebook from linear_algebra.ipynb\n"
     ]
    }
   ],
   "source": [
    "from collections import deque\n",
    "from functools import partial, reduce\n",
    "import import_ipynb\n",
    "from linear_algebra import *"
   ]
  },
  {
   "cell_type": "code",
   "execution_count": 3,
   "metadata": {},
   "outputs": [],
   "source": [
    "def shortest_paths_from(from_user):\n",
    "    \n",
    "    # a dictionary from 'user_id' to all shortest paths to that user\n",
    "    shortest_paths_to = {from_user['id'] : [[]]}\n",
    "    \n",
    "    # a queue of (previous user, next user)\n",
    "    frontier = deque((from_user, friend) for friend in from_user['friends'])\n",
    "    \n",
    "    while frontier:\n",
    "        \n",
    "        prev_user, user = frontier.popleft()     # remove first user in queue\n",
    "        user_id = user['id']\n",
    "        \n",
    "        paths_to_prev_user = shortest_paths_to[prev_user['id']]\n",
    "        new_paths_to_user = [path + [user_id] for path in paths_to_prev_user]\n",
    "        \n",
    "        old_paths_to_user = shortest_paths_to.get(user_id, [])\n",
    "        \n",
    "        if old_paths_to_user:\n",
    "            min_path_length = len(old_paths_to_user[0])\n",
    "        else:\n",
    "            min_path_length = float('inf')\n",
    "            \n",
    "        new_paths_to_user = [path\n",
    "                            for path in new_paths_to_user\n",
    "                            if len(path) <= min_path_length\n",
    "                            and path not in old_paths_to_user]\n",
    "        shortest_paths_to[user_id] = old_paths_to_user + new_paths_to_user\n",
    "        \n",
    "        # add new neighbors to frontier\n",
    "        frontier.extend((user, friend)\n",
    "                       for friend in user['friends']\n",
    "                       if friend['id'] not in shortest_paths_to)\n",
    "        \n",
    "        return shortest_paths_to"
   ]
  },
  {
   "cell_type": "code",
   "execution_count": 4,
   "metadata": {},
   "outputs": [],
   "source": [
    "for user in users:\n",
    "    user['shortest_paths'] = shortest_paths_from(user)"
   ]
  },
  {
   "cell_type": "markdown",
   "metadata": {},
   "source": [
    "### Betweenness Centrality"
   ]
  },
  {
   "cell_type": "markdown",
   "metadata": {},
   "source": [
    "Betweenness centrality can be thought of as a measure of the control a node has on the flow of information through a graph.  Essentially it measures the number of shortest paths in the graph through a node."
   ]
  },
  {
   "cell_type": "code",
   "execution_count": 5,
   "metadata": {},
   "outputs": [],
   "source": [
    "for user in users:\n",
    "    user['betweenness_centrality'] = 0.0\n",
    "\n",
    "for source in users:\n",
    "    source_id = source['id']\n",
    "    for target_id, paths in source['shortest_paths'].items():\n",
    "        if source_id < target_id:\n",
    "            num_paths = len(paths)\n",
    "            contrib = 1./num_paths\n",
    "            for path in paths:\n",
    "                for id in path:\n",
    "                    if id not in [source_id, target_id]:\n",
    "                        users[id]['betweenness_centrality'] += contrib"
   ]
  },
  {
   "cell_type": "markdown",
   "metadata": {},
   "source": [
    "### Closeness Centrality"
   ]
  },
  {
   "cell_type": "markdown",
   "metadata": {},
   "source": [
    "The closeness centrality of a node is how close it is to other nodes based on the shortest paths to the rest.  While betweenness centrality measures how much information flows through a node, closeness centrality measures how well a node \"brodcasts\" information, i.e. how quickly each node can get information out to the rest of the graph."
   ]
  },
  {
   "cell_type": "code",
   "execution_count": 6,
   "metadata": {},
   "outputs": [],
   "source": [
    "def farness(user):\n",
    "    \"\"\"the sum of the lengths of the shortest paths to each other user\"\"\"\n",
    "    return sum(len(paths[0])\n",
    "               for paths in user[\"shortest_paths\"].values())\n",
    "\n",
    "for user in users:\n",
    "    user[\"closeness_centrality\"] = 1 / farness(user)"
   ]
  },
  {
   "cell_type": "markdown",
   "metadata": {},
   "source": [
    "### Eigenvector Centrality"
   ]
  },
  {
   "cell_type": "markdown",
   "metadata": {},
   "source": [
    "Eigencentraility takes into account how well connected the nodes are that a node is connected to and serves as a good general measure of connectedness.  This can be thought of as an overall influence on a network."
   ]
  },
  {
   "cell_type": "code",
   "execution_count": 13,
   "metadata": {},
   "outputs": [],
   "source": [
    "def matrix_product_entry(A, B, i, j):\n",
    "    return dot(get_row(A, i), get_column(B, j))\n",
    "\n",
    "def matrix_multiply(A, B):\n",
    "    n1, k1 = shape(A)\n",
    "    n2, k2 = shape(B)\n",
    "    if k1 != n2:\n",
    "        raise ArithmeticError(\"incompatible shapes!\")\n",
    "\n",
    "    return make_matrix(n1, k2, partial(matrix_product_entry, A, B))\n",
    "\n",
    "def vector_as_matrix(v):\n",
    "    \"\"\"returns the vector v (represented as a list) as a n x 1 matrix\"\"\"\n",
    "    return [[v_i] for v_i in v]\n",
    "\n",
    "def vector_from_matrix(v_as_matrix):\n",
    "    \"\"\"returns the n x 1 matrix as a list of values\"\"\"\n",
    "    return [row[0] for row in v_as_matrix]\n",
    "\n",
    "def matrix_operate(A, v):\n",
    "    v_as_matrix = vector_as_matrix(v)\n",
    "    product = matrix_multiply(A, v_as_matrix)\n",
    "    return vector_from_matrix(product)\n",
    "\n",
    "def find_eigenvector(A, tolerance=0.00001):\n",
    "    guess = [1 for __ in A]\n",
    "\n",
    "    while True:\n",
    "        result = matrix_operate(A, guess)\n",
    "        length = magnitude(result)\n",
    "        next_guess = scalar_multiply(1/length, result)\n",
    "\n",
    "        if distance(guess, next_guess) < tolerance:\n",
    "            return next_guess, length # eigenvector, eigenvalue\n",
    "\n",
    "        guess = next_guess"
   ]
  },
  {
   "cell_type": "code",
   "execution_count": 14,
   "metadata": {},
   "outputs": [],
   "source": [
    "def entry_fn(i, j):\n",
    "    return 1 if (i, j) in friendships or (j, i) in friendships else 0\n",
    "\n",
    "n = len(users)\n",
    "adjacency_matrix = make_matrix(n, n, entry_fn)\n",
    "\n",
    "eigenvector_centralities, _ = find_eigenvector(adjacency_matrix)"
   ]
  },
  {
   "cell_type": "code",
   "execution_count": 19,
   "metadata": {},
   "outputs": [
    {
     "name": "stdout",
     "output_type": "stream",
     "text": [
      "Eigenvector Centrality\n",
      "0 0.38578006614957344\n",
      "1 0.5147902322356226\n",
      "2 0.5147902322356226\n",
      "3 0.47331220396377677\n",
      "4 0.23361029944966002\n",
      "5 0.1501458150031844\n",
      "6 0.08355561051056493\n",
      "7 0.08355561051056493\n",
      "8 0.07284034177922594\n",
      "9 0.027294660139652423\n",
      "\n"
     ]
    }
   ],
   "source": [
    "print(\"Eigenvector Centrality\")\n",
    "for user_id, centrality in enumerate(eigenvector_centralities):\n",
    "    print(user_id, centrality)\n",
    "print()"
   ]
  },
  {
   "cell_type": "markdown",
   "metadata": {},
   "source": [
    "### Directed Graphs"
   ]
  },
  {
   "cell_type": "markdown",
   "metadata": {},
   "source": [
    "Directed graphs are a type of graph where there is a clear flow between nodes. "
   ]
  },
  {
   "cell_type": "code",
   "execution_count": 15,
   "metadata": {},
   "outputs": [],
   "source": [
    "endorsements = [(0, 1), (1, 0), (0, 2), (2, 0), (1, 2), (2, 1), (1, 3),\n",
    "                (2, 3), (3, 4), (5, 4), (5, 6), (7, 5), (6, 8), (8, 7), (8, 9)]\n",
    "\n",
    "for user in users:\n",
    "    user[\"endorses\"] = []       # add one list to track outgoing endorsements\n",
    "    user[\"endorsed_by\"] = []    # and another to track endorsements\n",
    "\n",
    "for source_id, target_id in endorsements:\n",
    "    users[source_id][\"endorses\"].append(users[target_id])\n",
    "    users[target_id][\"endorsed_by\"].append(users[source_id])\n"
   ]
  },
  {
   "cell_type": "code",
   "execution_count": 16,
   "metadata": {},
   "outputs": [
    {
     "data": {
      "text/plain": [
       "[(0, 2),\n",
       " (1, 2),\n",
       " (2, 2),\n",
       " (3, 2),\n",
       " (4, 2),\n",
       " (5, 1),\n",
       " (6, 1),\n",
       " (7, 1),\n",
       " (8, 1),\n",
       " (9, 1)]"
      ]
     },
     "execution_count": 16,
     "metadata": {},
     "output_type": "execute_result"
    }
   ],
   "source": [
    "endorsements_by_id = [(user[\"id\"], len(user[\"endorsed_by\"]))\n",
    "                      for user in users]\n",
    "\n",
    "sorted(endorsements_by_id,\n",
    "       key=lambda pair: pair[1],\n",
    "       reverse=True)"
   ]
  },
  {
   "cell_type": "code",
   "execution_count": 17,
   "metadata": {},
   "outputs": [],
   "source": [
    "def page_rank(users, damping = 0.85, num_iters = 100):\n",
    "\n",
    "    # initially distribute PageRank evenly\n",
    "    num_users = len(users)\n",
    "    pr = { user[\"id\"] : 1 / num_users for user in users }\n",
    "\n",
    "    # this is the small fraction of PageRank\n",
    "    # that each node gets each iteration\n",
    "    base_pr = (1 - damping) / num_users\n",
    "\n",
    "    for __ in range(num_iters):\n",
    "        next_pr = { user[\"id\"] : base_pr for user in users }\n",
    "        for user in users:\n",
    "            # distribute PageRank to outgoing links\n",
    "            links_pr = pr[user[\"id\"]] * damping\n",
    "            for endorsee in user[\"endorses\"]:\n",
    "                next_pr[endorsee[\"id\"]] += links_pr / len(user[\"endorses\"])\n",
    "\n",
    "        pr = next_pr\n",
    "\n",
    "    return pr"
   ]
  },
  {
   "cell_type": "code",
   "execution_count": 18,
   "metadata": {},
   "outputs": [
    {
     "name": "stdout",
     "output_type": "stream",
     "text": [
      "PageRank\n",
      "0 0.0404553415061296\n",
      "1 0.044921190893169885\n",
      "2 0.044921190893169885\n",
      "3 0.0404553415061296\n",
      "4 0.06785083675770529\n",
      "5 0.04344422700587085\n",
      "6 0.03346379647749512\n",
      "7 0.03346379647749512\n",
      "8 0.04344422700587085\n",
      "9 0.03346379647749512\n"
     ]
    }
   ],
   "source": [
    "print(\"PageRank\")\n",
    "for user_id, pr in page_rank(users).items():\n",
    "    print(user_id, pr)"
   ]
  },
  {
   "cell_type": "code",
   "execution_count": null,
   "metadata": {},
   "outputs": [],
   "source": []
  }
 ],
 "metadata": {
  "kernelspec": {
   "display_name": "Python 3",
   "language": "python",
   "name": "python3"
  },
  "language_info": {
   "codemirror_mode": {
    "name": "ipython",
    "version": 3
   },
   "file_extension": ".py",
   "mimetype": "text/x-python",
   "name": "python",
   "nbconvert_exporter": "python",
   "pygments_lexer": "ipython3",
   "version": "3.6.6"
  }
 },
 "nbformat": 4,
 "nbformat_minor": 2
}
